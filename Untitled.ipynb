{
 "cells": [
  {
   "cell_type": "code",
   "execution_count": 1,
   "metadata": {},
   "outputs": [],
   "source": [
    "import pandas as pd\n",
    "import numpy as np\n",
    "import math"
   ]
  },
  {
   "cell_type": "code",
   "execution_count": 59,
   "metadata": {},
   "outputs": [],
   "source": [
    "data=pd.read_csv('play_tennis.csv')\n",
    "iris=pd.read_csv('Iris.csv')"
   ]
  },
  {
   "cell_type": "code",
   "execution_count": 3,
   "metadata": {},
   "outputs": [],
   "source": [
    "no=len(data[data['play']=='No'])\n",
    "yes=len(data[data['play']=='Yes'])\n",
    "p_no=no/(no +yes )\n",
    "p_yes=yes/(no +yes )"
   ]
  },
  {
   "cell_type": "code",
   "execution_count": 4,
   "metadata": {},
   "outputs": [],
   "source": [
    "E_P=(-p_no*math.log2(p_no))+(-p_yes*math.log2(p_yes))"
   ]
  },
  {
   "cell_type": "code",
   "execution_count": 104,
   "metadata": {},
   "outputs": [
    {
     "name": "stdout",
     "output_type": "stream",
     "text": [
      "the column to be splitted: outlook\n"
     ]
    }
   ],
   "source": [
    "def Information_Gain(c_name):\n",
    "    data1=pd.crosstab(data[c_name],data['play'])\n",
    "    nsum=0\n",
    "    for i in range(len(data1)):\n",
    "\n",
    "        child_no=data1.iloc[i].loc['No']\n",
    "        child_yes=data1.iloc[i].loc['Yes']\n",
    "        P1=child_no/(child_no+child_yes)\n",
    "        P2=child_yes/(child_no+child_yes)\n",
    "        if P1==0 and P2==0:\n",
    "            E=0\n",
    "        elif P1==0 and P2!=0:\n",
    "            E=-P2*math.log2(P2)\n",
    "        elif P1!=0 and P2==0:\n",
    "            E=-P1*math.log2(P1)\n",
    "        else:\n",
    "            E=(-P1*math.log2(P1))+(-P2*math.log2(P2))\n",
    "        length=len(data[data[c_name]==data1.iloc[i].name])     \n",
    "        nsum+=length/len(data)*E            \n",
    "    Ig=E_P-nsum    \n",
    "    return(Ig)\n",
    "d={}\n",
    "for i in data.columns[1:5]:\n",
    "    \n",
    "    d[i]=Information_Gain(i)\n",
    "    \n",
    "maximum=max(d.values())\n",
    "for i in d:\n",
    "    if d[i]==maximum:\n",
    "        print(\"the column to be splitted:\",i)\n",
    "        \n",
    "        \n",
    "    \n",
    "#v1=make(venues,'won')\n",
    "#v2=make(venues,'lost')\n"
   ]
  },
  {
   "cell_type": "code",
   "execution_count": null,
   "metadata": {},
   "outputs": [],
   "source": []
  },
  {
   "cell_type": "code",
   "execution_count": 64,
   "metadata": {},
   "outputs": [],
   "source": [
    "iris=iris.rename(columns={'SepalLengthCm':'SL','SepalWidthCm':'SW','PetalLengthCm':'PL','PetalWidthCm':'PW'})"
   ]
  },
  {
   "cell_type": "code",
   "execution_count": 65,
   "metadata": {},
   "outputs": [],
   "source": [
    "iris_new = iris.sort_values('PL')"
   ]
  },
  {
   "cell_type": "code",
   "execution_count": 97,
   "metadata": {},
   "outputs": [
    {
     "name": "stdout",
     "output_type": "stream",
     "text": [
      "1.584962500721156\n"
     ]
    }
   ],
   "source": [
    "m1=len(iris_new[iris_new['Species']=='Iris-versicolor'])\n",
    "m2=len(iris_new[iris_new['Species']=='Iris-setosa'])\n",
    "m3=len(iris_new[iris_new['Species']=='Iris-virginica'])\n",
    "    \n",
    "p_versi=m1/len(iris_new)\n",
    "p_sertosa=m2/len(iris_new)\n",
    "p_virgin=m3/len(iris_new)\n",
    "\n",
    "E3=(-p_versi*math.log2(p_versi))+(-p_sertosa*math.log2(p_sertosa))+(-p_virgin*math.log2(p_virgin))\n"
   ]
  },
  {
   "cell_type": "code",
   "execution_count": 102,
   "metadata": {},
   "outputs": [
    {
     "name": "stdout",
     "output_type": "stream",
     "text": [
      "The Splitting criteria for Petal Length is : 1.9\n"
     ]
    }
   ],
   "source": [
    "info_gain={}\n",
    "for i in iris_new['PL'][:-1]:\n",
    "    \n",
    "    data_before=iris_new[iris_new['PL']<=i]\n",
    "    data_after=iris_new[iris_new['PL']>i]\n",
    "    \n",
    "    y1=len(data_before[data_before['Species']=='Iris-versicolor'])\n",
    "    y2=len(data_before[data_before['Species']=='Iris-setosa'])\n",
    "    y3=len(data_before[data_before['Species']=='Iris-virginica'])\n",
    "    \n",
    "    p_versi_first=y1/len(data_before)\n",
    "    p_sertosa_first=y2/len(data_before)\n",
    "    p_virgin_first=y3/len(data_before)\n",
    "    \n",
    "    try:\n",
    "        b1=-p_versi_first*math.log2(p_versi_first)\n",
    "    except:\n",
    "        b1=0\n",
    "    try:\n",
    "        b2=-p_sertosa_first*math.log2(p_sertosa_first)\n",
    "    except:\n",
    "        b2=0\n",
    "    try:\n",
    "        b3=-p_virgin_first*math.log2(p_virgin_first)\n",
    "    except:\n",
    "        b3=0    \n",
    "        \n",
    "    E1=b1+b2+b3    \n",
    "    \n",
    "    \n",
    "    \n",
    "    x1=len(data_after[data_after['Species']=='Iris-versicolor'])\n",
    "    x2=len(data_after[data_after['Species']=='Iris-setosa'])\n",
    "    x3=len(data_after[data_after['Species']=='Iris-virginica'])\n",
    "    \n",
    "    p_versi_second=x1/len(data_after)\n",
    "    p_sertosa_second=x2/len(data_after)\n",
    "    p_virgin_second=x3/len(data_after)\n",
    "    \n",
    "    try:\n",
    "        a1=-p_versi_second*math.log2(p_versi_second)\n",
    "    except:\n",
    "        a1=0\n",
    "    try:\n",
    "        a2=-p_sertosa_second*math.log2(p_sertosa_second)\n",
    "    except:\n",
    "        a2=0\n",
    "    try:\n",
    "        a3=-p_virgin_second*math.log2(p_virgin_second)\n",
    "    except:\n",
    "        a3=0    \n",
    "    \n",
    "    E2=a1+a2+a3 \n",
    "    \n",
    "    w_av=((len(data_before)/len(iris_new))*E1)+((len(data_after))/(len(iris_new))*E2)\n",
    "    ig=E3-w_av\n",
    "    info_gain[i]=ig\n",
    "    \n",
    "max1=max(info_gain.values()) \n",
    "\n",
    "for i in info_gain:\n",
    "    if info_gain[i]==max1:\n",
    "        print(\"The Splitting criteria for Petal Length is :\",i)"
   ]
  },
  {
   "cell_type": "code",
   "execution_count": null,
   "metadata": {},
   "outputs": [],
   "source": []
  }
 ],
 "metadata": {
  "kernelspec": {
   "display_name": "Python 3",
   "language": "python",
   "name": "python3"
  },
  "language_info": {
   "codemirror_mode": {
    "name": "ipython",
    "version": 3
   },
   "file_extension": ".py",
   "mimetype": "text/x-python",
   "name": "python",
   "nbconvert_exporter": "python",
   "pygments_lexer": "ipython3",
   "version": "3.7.4"
  }
 },
 "nbformat": 4,
 "nbformat_minor": 2
}
